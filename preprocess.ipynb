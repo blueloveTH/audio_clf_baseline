{
 "metadata": {
  "language_info": {
   "codemirror_mode": {
    "name": "ipython",
    "version": 3
   },
   "file_extension": ".py",
   "mimetype": "text/x-python",
   "name": "python",
   "nbconvert_exporter": "python",
   "pygments_lexer": "ipython3",
   "version": "3.8.5-final"
  },
  "orig_nbformat": 2,
  "kernelspec": {
   "name": "python3",
   "display_name": "Python 3",
   "language": "python"
  }
 },
 "nbformat": 4,
 "nbformat_minor": 2,
 "cells": [
  {
   "cell_type": "code",
   "execution_count": 1,
   "metadata": {},
   "outputs": [],
   "source": [
    "import numpy as np\n",
    "import librosa as lb\n",
    "import pandas as pd\n",
    "import numpy as np\n",
    "import os\n",
    "import gc\n",
    "from tqdm import tqdm\n",
    "\n",
    "idx_to_label = 'bed bird cat dog down eight five four go happy house left marvin nine no off on one right seven sheila six stop three tree two up wow yes zero'.split(' ')\n",
    "\n",
    "NUM_CLASSES = len(idx_to_label)\n",
    "\n",
    "label_to_idx = {idx_to_label[i]: i for i in range(NUM_CLASSES)}\n",
    "\n",
    "train_data_path = 'data/train'\n",
    "test_data_path = 'data/test'"
   ]
  },
  {
   "cell_type": "code",
   "execution_count": 2,
   "metadata": {},
   "outputs": [],
   "source": [
    "from sklearn.utils import shuffle\n",
    "\n",
    "def preprocess_train(pipeline):\n",
    "    x, y = [], []\n",
    "    for label in idx_to_label:\n",
    "        label_dir = f'{train_data_path}/{label}'\n",
    "        for wav_file in tqdm(os.listdir(label_dir)):\n",
    "            wav_path = label_dir + f'/{wav_file}'\n",
    "            wav, _ = lb.load(wav_path, sr=SR)\n",
    "            x.append(pipeline(wav).astype('float32'))\n",
    "            y.append(label_to_idx[label])\n",
    "    x, y = shuffle(np.r_[x], np.r_[y], random_state=7)\n",
    "    return x, y.astype('int64')\n",
    "\n",
    "def preprocess_test(pipeline):\n",
    "    x, keys = [], []\n",
    "    for wav_file in tqdm(os.listdir(test_data_path)):\n",
    "        wav_path = f'{test_data_path}/{wav_file}'\n",
    "        wav, _ = lb.load(wav_path, sr=SR)\n",
    "        x.append(pipeline(wav).astype('float32'))\n",
    "        keys.append(wav_file)\n",
    "    return np.r_[x], np.r_[keys]"
   ]
  },
  {
   "cell_type": "code",
   "execution_count": 3,
   "metadata": {},
   "outputs": [
    {
     "output_type": "stream",
     "name": "stderr",
     "text": [
      "100%|██████████| 1537/1537 [00:00<00:00, 2661.68it/s]\n",
      "100%|██████████| 1573/1573 [00:00<00:00, 2705.20it/s]\n",
      "100%|██████████| 1567/1567 [00:00<00:00, 2741.92it/s]\n",
      "100%|██████████| 1566/1566 [00:00<00:00, 2665.85it/s]\n",
      "100%|██████████| 2106/2106 [00:00<00:00, 2736.57it/s]\n",
      "100%|██████████| 2095/2095 [00:00<00:00, 2749.61it/s]\n",
      "100%|██████████| 2086/2086 [00:00<00:00, 2719.27it/s]\n",
      "100%|██████████| 2119/2119 [00:00<00:00, 2730.28it/s]\n",
      "100%|██████████| 2121/2121 [00:00<00:00, 2750.55it/s]\n",
      "100%|██████████| 1562/1562 [00:00<00:00, 2714.22it/s]\n",
      "100%|██████████| 1600/1600 [00:00<00:00, 2705.37it/s]\n",
      "100%|██████████| 2086/2086 [00:00<00:00, 2709.19it/s]\n",
      "100%|██████████| 1584/1584 [00:00<00:00, 2730.65it/s]\n",
      "100%|██████████| 2105/2105 [00:00<00:00, 2740.98it/s]\n",
      "100%|██████████| 2123/2123 [00:00<00:00, 2739.59it/s]\n",
      "100%|██████████| 2095/2095 [00:00<00:00, 2724.52it/s]\n",
      "100%|██████████| 2121/2121 [00:00<00:00, 2744.18it/s]\n",
      "100%|██████████| 2122/2122 [00:00<00:00, 2700.00it/s]\n",
      "100%|██████████| 2108/2108 [00:00<00:00, 2727.40it/s]\n",
      "100%|██████████| 2138/2138 [00:00<00:00, 2713.59it/s]\n",
      "100%|██████████| 1548/1548 [00:00<00:00, 2669.90it/s]\n",
      "100%|██████████| 2125/2125 [00:00<00:00, 2659.99it/s]\n",
      "100%|██████████| 2131/2131 [00:00<00:00, 2717.43it/s]\n",
      "100%|██████████| 2089/2089 [00:00<00:00, 2695.64it/s]\n",
      "100%|██████████| 1540/1540 [00:00<00:00, 2694.67it/s]\n",
      "100%|██████████| 2109/2109 [00:00<00:00, 2714.39it/s]\n",
      "100%|██████████| 2103/2103 [00:00<00:00, 2679.23it/s]\n",
      "100%|██████████| 1580/1580 [00:00<00:00, 2699.06it/s]\n",
      "100%|██████████| 2121/2121 [00:00<00:00, 2723.06it/s]\n",
      "100%|██████████| 2126/2126 [00:00<00:00, 2732.83it/s]\n",
      "100%|██████████| 6835/6835 [00:22<00:00, 304.39it/s]\n"
     ]
    },
    {
     "output_type": "execute_result",
     "data": {
      "text/plain": [
       "((57886,), (57886,), (6835, 1, 32, 32), (6835,))"
      ]
     },
     "metadata": {},
     "execution_count": 3
    }
   ],
   "source": [
    "from transforms import *\n",
    "\n",
    "normal_transform = Compose([crop_or_pad, ToLogMelspectrogram(config='1x32x32')])\n",
    "\n",
    "data_aug_transform = Compose([\n",
    "    TimeShift(), ChangeAmplitude(), ChangeSpeedAndPitch(), normal_transform])\n",
    "\n",
    "x_train, y_train = preprocess_train(lambda x:x)\n",
    "x_test, test_keys = preprocess_test(normal_transform)\n",
    "\n",
    "gc.collect()\n",
    "\n",
    "x_train.shape, y_train.shape, x_test.shape, test_keys.shape"
   ]
  },
  {
   "cell_type": "code",
   "execution_count": 4,
   "metadata": {},
   "outputs": [],
   "source": [
    "np.save('raw_train.npy', x_train)\n",
    "np.save('y_train.npy', y_train)\n",
    "np.save('x_test_mel32.npy', x_test)\n",
    "np.save('test_keys.npy', test_keys)"
   ]
  },
  {
   "cell_type": "code",
   "execution_count": null,
   "metadata": {},
   "outputs": [],
   "source": []
  }
 ]
}