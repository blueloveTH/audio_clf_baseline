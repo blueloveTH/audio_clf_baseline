{
 "metadata": {
  "language_info": {
   "codemirror_mode": {
    "name": "ipython",
    "version": 3
   },
   "file_extension": ".py",
   "mimetype": "text/x-python",
   "name": "python",
   "nbconvert_exporter": "python",
   "pygments_lexer": "ipython3",
   "version": "3.7.8-final"
  },
  "orig_nbformat": 2,
  "kernelspec": {
   "name": "python3",
   "display_name": "Python 3"
  }
 },
 "nbformat": 4,
 "nbformat_minor": 2,
 "cells": [
  {
   "cell_type": "code",
   "execution_count": 1,
   "metadata": {},
   "outputs": [],
   "source": [
    "import numpy as np\n",
    "import librosa as lb\n",
    "import pandas as pd\n",
    "import numpy as np\n",
    "import os\n",
    "import gc\n",
    "from tqdm import tqdm\n",
    "\n",
    "idx_to_label = 'bed bird cat dog down eight five four go happy house left marvin nine no off on one right seven sheila six stop three tree two up wow yes zero'.split(' ')\n",
    "\n",
    "NUM_CLASSES = len(idx_to_label)\n",
    "\n",
    "label_to_idx = {idx_to_label[i]: i for i in range(NUM_CLASSES)}\n",
    "\n",
    "\n",
    "train_data_path = 'data/train'\n",
    "test_data_path = 'data/test'"
   ]
  },
  {
   "cell_type": "code",
   "execution_count": 2,
   "metadata": {},
   "outputs": [],
   "source": [
    "from sklearn.utils import shuffle\n",
    "\n",
    "def preprocess_train(pipeline):\n",
    "    x, y = [], []\n",
    "    for label in idx_to_label:\n",
    "        label_dir = f'{train_data_path}/{label}'\n",
    "        for wav_file in tqdm(os.listdir(label_dir)):\n",
    "            wav_path = label_dir + f'/{wav_file}'\n",
    "            wav, _ = lb.load(wav_path, sr=SR)\n",
    "            x.append(pipeline(wav).astype('float32'))\n",
    "            y.append(label_to_idx[label])\n",
    "    x, y = shuffle(np.r_[x], np.r_[y], random_state=7)\n",
    "    return x, y.astype('int64')\n",
    "\n",
    "def preprocess_test(pipeline):\n",
    "    x, keys = [], []\n",
    "    for wav_file in tqdm(os.listdir(test_data_path)):\n",
    "        wav_path = f'{test_data_path}/{wav_file}'\n",
    "        wav, _ = lb.load(wav_path, sr=SR)\n",
    "        x.append(pipeline(wav).astype('float32'))\n",
    "        keys.append(wav_file)\n",
    "    return np.r_[x], np.r_[keys]"
   ]
  },
  {
   "cell_type": "code",
   "execution_count": 3,
   "metadata": {},
   "outputs": [
    {
     "output_type": "stream",
     "name": "stderr",
     "text": [
      "100%|██████████| 1537/1537 [00:00<00:00, 1671.71it/s]\n",
      "100%|██████████| 1573/1573 [00:00<00:00, 1721.44it/s]\n",
      "100%|██████████| 1567/1567 [00:00<00:00, 1914.91it/s]\n",
      "100%|██████████| 1566/1566 [00:00<00:00, 1828.13it/s]\n",
      "100%|██████████| 2106/2106 [00:01<00:00, 1665.94it/s]\n",
      "100%|██████████| 2095/2095 [00:01<00:00, 1652.99it/s]\n",
      "100%|██████████| 2086/2086 [00:01<00:00, 1759.90it/s]\n",
      "100%|██████████| 2119/2119 [00:01<00:00, 1821.06it/s]\n",
      "100%|██████████| 2121/2121 [00:01<00:00, 1748.08it/s]\n",
      "100%|██████████| 1562/1562 [00:00<00:00, 1818.18it/s]\n",
      "100%|██████████| 1600/1600 [00:00<00:00, 1781.12it/s]\n",
      "100%|██████████| 2086/2086 [00:01<00:00, 1814.15it/s]\n",
      "100%|██████████| 1584/1584 [00:00<00:00, 1713.46it/s]\n",
      "100%|██████████| 2105/2105 [00:01<00:00, 1585.52it/s]\n",
      "100%|██████████| 2123/2123 [00:01<00:00, 1743.76it/s]\n",
      "100%|██████████| 2095/2095 [00:01<00:00, 1696.81it/s]\n",
      "100%|██████████| 2121/2121 [00:01<00:00, 1735.32it/s]\n",
      "100%|██████████| 2122/2122 [00:01<00:00, 1721.89it/s]\n",
      "100%|██████████| 2108/2108 [00:01<00:00, 1712.84it/s]\n",
      "100%|██████████| 2138/2138 [00:01<00:00, 1495.48it/s]\n",
      "100%|██████████| 1548/1548 [00:00<00:00, 1768.79it/s]\n",
      "100%|██████████| 2125/2125 [00:01<00:00, 1703.34it/s]\n",
      "100%|██████████| 2131/2131 [00:01<00:00, 1654.77it/s]\n",
      "100%|██████████| 2089/2089 [00:01<00:00, 1682.19it/s]\n",
      "100%|██████████| 1540/1540 [00:00<00:00, 1782.70it/s]\n",
      "100%|██████████| 2109/2109 [00:01<00:00, 1803.98it/s]\n",
      "100%|██████████| 2103/2103 [00:01<00:00, 1814.40it/s]\n",
      "100%|██████████| 1580/1580 [00:00<00:00, 1920.59it/s]\n",
      "100%|██████████| 2121/2121 [00:01<00:00, 1647.84it/s]\n",
      "100%|██████████| 2126/2126 [00:01<00:00, 1622.32it/s]\n",
      "100%|██████████| 6835/6835 [00:19<00:00, 358.76it/s]\n"
     ]
    },
    {
     "output_type": "execute_result",
     "data": {
      "text/plain": [
       "((57886,), (57886,), (6835, 1, 32, 32), (6835,))"
      ]
     },
     "metadata": {},
     "execution_count": 3
    }
   ],
   "source": [
    "from transforms import *\n",
    "\n",
    "normal_transform = Compose([crop_or_pad, ToLogMelspectrogram(config='1x32x32')])\n",
    "\n",
    "data_aug_transform = Compose([\n",
    "    TimeShiftAudio(), ChangeAmplitude(), ChangeSpeedAndPitchAudio(), normal_transform])\n",
    "\n",
    "x_train, y_train = preprocess_train(lambda x:x)\n",
    "x_test, test_keys = preprocess_test(normal_transform)\n",
    "\n",
    "gc.collect()\n",
    "\n",
    "x_train.shape, y_train.shape, x_test.shape, test_keys.shape"
   ]
  },
  {
   "cell_type": "code",
   "execution_count": 4,
   "metadata": {},
   "outputs": [],
   "source": [
    "np.savez_compressed('raw_train_data.npz', x_train=x_train, y_train=y_train)\n",
    "np.savez_compressed('test_data_mel32.npz', x_test=x_test, test_keys=test_keys)"
   ]
  }
 ]
}