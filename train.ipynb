{
 "cells": [
  {
   "cell_type": "code",
   "execution_count": 1,
   "metadata": {},
   "outputs": [],
   "source": [
    "import numpy as np\n",
    "import pandas as pd\n",
    "import numpy as np\n",
    "\n",
    "NUM_CLASSES = 30\n",
    "use_global_normalization = True"
   ]
  },
  {
   "cell_type": "code",
   "execution_count": 2,
   "metadata": {},
   "outputs": [
    {
     "output_type": "execute_result",
     "data": {
      "text/plain": [
       "((57886,), (57886,), (6835, 1, 32, 32), (6835,))"
      ]
     },
     "metadata": {},
     "execution_count": 2
    }
   ],
   "source": [
    "x_train = np.load('raw_train.npy', allow_pickle=True)\n",
    "y_train = np.load('y_train.npy', allow_pickle=True)\n",
    "x_test = np.load('x_test_mel32.npy', allow_pickle=True)\n",
    "test_keys = np.load('test_keys.npy', allow_pickle=True)\n",
    "    \n",
    "x_train.shape, y_train.shape, x_test.shape, test_keys.shape"
   ]
  },
  {
   "cell_type": "code",
   "execution_count": 3,
   "metadata": {},
   "outputs": [
    {
     "output_type": "stream",
     "name": "stdout",
     "text": [
      "Requirement already satisfied: keras4torch==1.1.1 in d:\\miniconda\\envs\\data_science\\lib\\site-packages (1.1.1)\nRequirement already satisfied: pandas in d:\\miniconda\\envs\\data_science\\lib\\site-packages (from keras4torch==1.1.1) (1.2.0)\nRequirement already satisfied: pytz>=2017.3 in d:\\miniconda\\envs\\data_science\\lib\\site-packages (from pandas->keras4torch==1.1.1) (2020.5)\nRequirement already satisfied: numpy>=1.16.5 in d:\\miniconda\\envs\\data_science\\lib\\site-packages (from pandas->keras4torch==1.1.1) (1.18.0)\nRequirement already satisfied: python-dateutil>=2.7.3 in d:\\miniconda\\envs\\data_science\\lib\\site-packages (from pandas->keras4torch==1.1.1) (2.8.1)\nRequirement already satisfied: six>=1.5 in d:\\miniconda\\envs\\data_science\\lib\\site-packages (from python-dateutil>=2.7.3->pandas->keras4torch==1.1.1) (1.15.0)\n"
     ]
    }
   ],
   "source": [
    "! pip install keras4torch==1.1.1"
   ]
  },
  {
   "cell_type": "code",
   "execution_count": 4,
   "metadata": {},
   "outputs": [],
   "source": [
    "import keras4torch as k4t\n",
    "import torch\n",
    "import torch.nn as nn\n",
    "\n",
    "from dataset import SpeechCommandsDataset\n",
    "from models import wideresnet\n",
    "\n",
    "def build_model():\n",
    "    model = wideresnet(depth=28, widen_factor=10, num_classes=NUM_CLASSES)\n",
    "\n",
    "    model = k4t.Model(model).build([1, 32, 32])\n",
    "    \n",
    "    model.compile(optimizer=torch.optim.SGD(model.parameters(), lr=1e-2, momentum=0.9, weight_decay=1e-2), \n",
    "                    loss=k4t.losses.CELoss(label_smoothing=0.1),\n",
    "                    metrics=['acc'], device='cuda')\n",
    "\n",
    "    return model"
   ]
  },
  {
   "cell_type": "code",
   "execution_count": 5,
   "metadata": {},
   "outputs": [],
   "source": [
    "from torch.utils.data import DataLoader\n",
    "from transforms import *\n",
    "\n",
    "normal_transform = Compose([crop_or_pad, ToLogMelspectrogram(config='1x32x32')])\n",
    "\n",
    "if use_global_normalization:\n",
    "    norm = GlobalNormalization(config='mel32')\n",
    "    normal_transform = Compose([normal_transform, norm])\n",
    "    x_test = norm(x_test)\n",
    "\n",
    "data_aug_transform = Compose([TimeShift(), ChangeAmplitude(), ChangeSpeedAndPitch(), normal_transform])"
   ]
  },
  {
   "cell_type": "code",
   "execution_count": 6,
   "metadata": {},
   "outputs": [
    {
     "output_type": "stream",
     "name": "stdout",
     "text": [
      "Processing fold 0:\n",
      "Train on 46308 samples, validate on 11578 samples:\n",
      "Epoch 1/40\n",
      "110/483 [=====>........................] - ETA: 3:39 - loss: 2.7489 - acc: 0.2924"
     ]
    }
   ],
   "source": [
    "from sklearn.model_selection import StratifiedKFold\n",
    "from torch.optim.lr_scheduler import MultiStepLR\n",
    "\n",
    "kfold = StratifiedKFold(n_splits=5, shuffle=True, random_state=2020)\n",
    "\n",
    "y_proba = np.zeros([len(x_test), NUM_CLASSES]).astype(np.float32)\n",
    "model_name = 'wideresnet28'\n",
    "\n",
    "for i, (trn, val) in enumerate(kfold.split(x_train, y_train)):\n",
    "    print(f'Processing fold {i}:')\n",
    "\n",
    "    model = build_model()\n",
    "    lr_scheduler = MultiStepLR(model.trainer.optimizer, milestones=[13, 20, 27, 34], gamma=0.3)\n",
    "\n",
    "    train_set = SpeechCommandsDataset(x_train[trn], y_train[trn], data_aug_transform)\n",
    "    val_set = SpeechCommandsDataset(x_train[val], y_train[val], normal_transform, use_cache=True)\n",
    "\n",
    "    history = model.fit(train_set,\n",
    "            validation_data=val_set,\n",
    "            batch_size=96,\n",
    "            epochs=40,\n",
    "            callbacks=[\n",
    "                k4t.callbacks.ModelCheckpoint(f'best_{model_name}_{i}.pt', monitor='val_acc'),\n",
    "                k4t.callbacks.LRScheduler(lr_scheduler)\n",
    "            ],\n",
    "            # num_workers=-1 # uncomment this for multiprocessing\n",
    "    )\n",
    "  \n",
    "    model.load_weights(f'best_{model_name}_{i}.pt')\n",
    "    print(model.evaluate(x_train[val], y_train[val]))\n",
    "    y_proba += model.predict(x_test, activation='softmax')\n",
    "\n",
    "y_proba /= kfold.n_splits\n",
    "np.save(f'{model_name}_{kfold.n_splits}foldcv_proba.npy', y_proba)"
   ]
  },
  {
   "cell_type": "code",
   "execution_count": null,
   "metadata": {},
   "outputs": [],
   "source": []
  }
 ],
 "metadata": {
  "kernelspec": {
   "display_name": "Python 3",
   "language": "python",
   "name": "python3"
  },
  "language_info": {
   "codemirror_mode": {
    "name": "ipython",
    "version": 3
   },
   "file_extension": ".py",
   "mimetype": "text/x-python",
   "name": "python",
   "nbconvert_exporter": "python",
   "pygments_lexer": "ipython3",
   "version": "3.8.5-final"
  }
 },
 "nbformat": 4,
 "nbformat_minor": 4
}