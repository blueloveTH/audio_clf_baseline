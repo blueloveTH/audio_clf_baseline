{
 "cells": [
  {
   "cell_type": "code",
   "execution_count": null,
   "metadata": {},
   "outputs": [],
   "source": [
    "import numpy as np\n",
    "import pandas as pd\n",
    "import numpy as np\n",
    "import os\n",
    "import gc\n",
    "\n",
    "NUM_CLASSES = 30\n",
    "num_workers = 0\n",
    "use_global_normalization = True"
   ]
  },
  {
   "cell_type": "code",
   "execution_count": null,
   "metadata": {},
   "outputs": [],
   "source": [
    "raw_train_data, test_data = np.load('raw_train_data.npz', allow_pickle=True), np.load('test_data_mel32.npz')"
   ]
  },
  {
   "cell_type": "code",
   "execution_count": null,
   "metadata": {},
   "outputs": [],
   "source": [
    "for k,v in raw_train_data.items():\n",
    "    locals()[k] = v\n",
    "for k,v in test_data.items():\n",
    "    locals()[k] = v\n",
    "    \n",
    "x_train.shape, y_train.shape, x_test.shape, test_keys.shape"
   ]
  },
  {
   "cell_type": "code",
   "execution_count": null,
   "metadata": {},
   "outputs": [],
   "source": [
    "import keras4torch as k4t\n",
    "import torch\n",
    "import torch.nn as nn\n",
    "\n",
    "from dataset import SpeechCommandsDataset\n",
    "from models import wideresnet\n",
    "\n",
    "def build_model():\n",
    "    model = wideresnet(depth=28, widen_factor=10, num_classes=NUM_CLASSES)\n",
    "\n",
    "    model = k4t.Model(model).build([1, 32, 32])\n",
    "    \n",
    "    model.compile(optimizer=torch.optim.SGD(model.parameters(), lr=1e-2, momentum=0.9, weight_decay=1e-2), \n",
    "                    loss=k4t.losses.CELoss(label_smoothing=0.1),\n",
    "                    metrics=['acc'], device='cuda')\n",
    "\n",
    "    return model"
   ]
  },
  {
   "cell_type": "code",
   "execution_count": null,
   "metadata": {},
   "outputs": [],
   "source": [
    "from torch.utils.data import DataLoader\n",
    "from transforms import *\n",
    "\n",
    "normal_transform = Compose([crop_or_pad, ToLogMelspectrogram(config='1x32x32')])\n",
    "\n",
    "if use_global_normalization:\n",
    "    norm = GlobalNormalization(config='mel32')\n",
    "    normal_transform = Compose([normal_transform, norm])\n",
    "    x_test = norm(x_test)\n",
    "\n",
    "data_aug_transform = Compose([TimeShift(), ChangeAmplitude(), ChangeSpeedAndPitch(), normal_transform])\n",
    "\n",
    "def make_dataloader(x_trn, y_trn, x_val, y_val):\n",
    "    trn_loader = DataLoader(\n",
    "        SpeechCommandsDataset(x_trn, y_trn, data_aug_transform),\n",
    "            batch_size=96, pin_memory=True, shuffle=True, num_workers=num_workers)\n",
    "    val_loader = DataLoader(\n",
    "        SpeechCommandsDataset(x_val, y_val, normal_transform, use_cache=True),\n",
    "            batch_size=96, pin_memory=True, shuffle=False, num_workers=num_workers)\n",
    "    return trn_loader, val_loader"
   ]
  },
  {
   "cell_type": "code",
   "execution_count": null,
   "metadata": {},
   "outputs": [],
   "source": [
    "from sklearn.model_selection import StratifiedKFold\n",
    "from torch.optim.lr_scheduler import MultiStepLR\n",
    "\n",
    "kfold = StratifiedKFold(n_splits=5, shuffle=True, random_state=2020)\n",
    "\n",
    "y_proba = np.zeros([len(x_test), NUM_CLASSES]).astype(np.float32)\n",
    "model_name = 'wideresnet28'\n",
    "\n",
    "for i, (trn, val) in enumerate(kfold.split(x_train, y_train)):\n",
    "    print(f'Processing fold {i}:')\n",
    "\n",
    "    model = build_model()\n",
    "    \n",
    "    lr_scheduler = MultiStepLR(model.trainer.optimizer, milestones=[13, 20, 27, 34], gamma=0.3)\n",
    "    lr_scheduler = k4t.callbacks.LRScheduler(lr_scheduler)\n",
    "\n",
    "    model_checkpoint = k4t.callbacks.ModelCheckpoint(f'best_{model_name}_{i}.pt', monitor='val_acc')\n",
    "\n",
    "    trn_loader, val_loader = make_dataloader(x_train[trn], y_train[trn], x_train[val], y_train[val])\n",
    "\n",
    "    history = model.fit_dl(trn_loader,\n",
    "            epochs=40,\n",
    "            val_loader=val_loader,\n",
    "            callbacks=[model_checkpoint, lr_scheduler]\n",
    "    )\n",
    "  \n",
    "    model.load_weights(f'best_{model_name}_{i}.pt')\n",
    "    print(model.evaluate_dl(val_loader))\n",
    "    y_proba += model.predict(x_test, activation=nn.Softmax(-1))\n",
    "\n",
    "y_proba /= kfold.n_splits\n",
    "np.save(f'{model_name}_{kfold.n_splits}foldcv_proba.npy', y_proba)"
   ]
  },
  {
   "cell_type": "code",
   "execution_count": null,
   "metadata": {},
   "outputs": [],
   "source": []
  }
 ],
 "metadata": {
  "kernelspec": {
   "display_name": "Python 3",
   "language": "python",
   "name": "python3"
  },
  "language_info": {
   "codemirror_mode": {
    "name": "ipython",
    "version": 3
   },
   "file_extension": ".py",
   "mimetype": "text/x-python",
   "name": "python",
   "nbconvert_exporter": "python",
   "pygments_lexer": "ipython3",
   "version": "3.7.8-final"
  }
 },
 "nbformat": 4,
 "nbformat_minor": 4
}